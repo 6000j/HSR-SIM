{
 "cells": [
  {
   "cell_type": "markdown",
   "metadata": {},
   "source": [
    "### Item Imports (Run this first!)"
   ]
  },
  {
   "cell_type": "code",
   "execution_count": 1,
   "metadata": {},
   "outputs": [
    {
     "ename": "ModuleNotFoundError",
     "evalue": "No module named 'Misc'",
     "output_type": "error",
     "traceback": [
      "\u001b[1;31m---------------------------------------------------------------------------\u001b[0m",
      "\u001b[1;31mModuleNotFoundError\u001b[0m                       Traceback (most recent call last)",
      "Cell \u001b[1;32mIn[1], line 1\u001b[0m\n\u001b[1;32m----> 1\u001b[0m \u001b[38;5;28;01mfrom\u001b[39;00m \u001b[38;5;21;01mMisc\u001b[39;00m \u001b[38;5;28;01mimport\u001b[39;00m \u001b[38;5;241m*\u001b[39m\n\u001b[0;32m      2\u001b[0m \u001b[38;5;28;01mfrom\u001b[39;00m \u001b[38;5;21;01mRelicStats\u001b[39;00m \u001b[38;5;28;01mimport\u001b[39;00m \u001b[38;5;241m*\u001b[39m\n\u001b[0;32m      3\u001b[0m \u001b[38;5;28;01mfrom\u001b[39;00m \u001b[38;5;21;01mCombatSim\u001b[39;00m \u001b[38;5;28;01mimport\u001b[39;00m startSimulator\n",
      "\u001b[1;31mModuleNotFoundError\u001b[0m: No module named 'Misc'"
     ]
    }
   ],
   "source": [
    "from Misc import *\n",
    "from RelicStats import *\n",
    "from CombatSim import startSimulator\n",
    "import os\n",
    "\n",
    "folders = [\"Characters\", \"Lightcones\", \"Relics\", \"Planars\"]\n",
    "\n",
    "for folder in folders:\n",
    "    modules = [f[:-3] for f in os.listdir(folder) if f.endswith('.py') and f != '__init__.py']\n",
    "\n",
    "    init_file = os.path.join(folder, '__init__.py')\n",
    "    with open(init_file, 'w') as f:\n",
    "        for module_name in modules:\n",
    "            f.write(f\"from .{module_name} import *\\n\")\n",
    "            \n",
    "cycleLimit = 50\n"
   ]
  },
  {
   "cell_type": "code",
   "execution_count": null,
   "metadata": {},
   "outputs": [],
   "source": [
    "import Lightcones\n",
    "import Planars\n",
    "import Relics\n",
    "import Characters\n",
    "\n",
    "firefly = Characters.Firefly(0, Role.DPS, 0)\n",
    "rm = Characters.RuanMei(1, Role.SUP1, 0, breakTeam=True)\n",
    "hmc = Characters.HatBlazer(2, Role.SUP2, 0, rotation=[\"E\", \"E\", \"A\"])\n",
    "gal = Characters.Gallagher(3, Role.SUS, 0, breakTeam=True)\n",
    "ling = Characters.Lingsha(3, Role.SUS, 0, breakTeam=True)"
   ]
  },
  {
   "cell_type": "markdown",
   "metadata": {},
   "source": [
    "### Eidolons"
   ]
  },
  {
   "cell_type": "code",
   "execution_count": null,
   "metadata": {},
   "outputs": [
    {
     "name": "stdout",
     "output_type": "stream",
     "text": [
      "Lingsha E0S0: DPAV: 3514.158\n",
      "Lingsha E0S1: DPAV: 3947.976\n",
      "Lingsha E1S1: DPAV: 4518.156\n",
      "Lingsha E2S1: DPAV: 4978.461\n",
      "Lingsha E3S1: DPAV: 5036.189\n",
      "Lingsha E4S1: DPAV: 5036.189\n",
      "Lingsha E5S1: DPAV: 5040.824\n",
      "Lingsha E6S1: DPAV: 6173.918\n",
      "Lingsha E6S5: DPAV: 6728.965\n"
     ]
    }
   ],
   "source": [
    "for i in range(9):\n",
    "    firefly = Characters.Firefly(0, Role.DPS, 0)\n",
    "    rm = Characters.RuanMei(1, Role.SUP1, 0, breakTeam=True)\n",
    "    hmc = Characters.HatBlazer(2, Role.SUP2, 0, rotation=[\"E\", \"A\", \"A\"])\n",
    "\n",
    "    # Lingsha Settings\n",
    "    rope = Pwr.BE_PERCENT if i == 0 else Pwr.ERR_PERCENT\n",
    "    subs = RelicStats(12, 4, 0, 4, 4, 0, 4, 12, 4, 4, 0, 0, Pwr.OGH_PERCENT, Pwr.SPD, Pwr.ATK_PERCENT, rope)\n",
    "    lclevel = [0, 1, 1, 1, 1, 1, 1, 1, 5]\n",
    "    eid = [0, 0, 1, 2, 3, 4, 5, 6, 6]\n",
    "    scent = Lightcones.ScentLingsha(Role.SUS, level=lclevel[i])\n",
    "    postOp = Lightcones.PostOp(Role.SUS, 5)\n",
    "    lc = postOp if i == 0 else scent\n",
    "    ling = Characters.Lingsha(3, Role.SUS, 0, breakTeam=True, eidolon=eid[i], lc=lc, subs=subs)\n",
    "\n",
    "    print(f\"Lingsha E{eid[i]}S{lclevel[i]}: {startSimulator(cycleLimit=cycleLimit, s1=firefly, s2=rm, s3=hmc, s4=ling)}\")\n",
    "\n"
   ]
  },
  {
   "cell_type": "markdown",
   "metadata": {},
   "source": [
    "### Firefly"
   ]
  },
  {
   "cell_type": "code",
   "execution_count": null,
   "metadata": {},
   "outputs": [
    {
     "name": "stdout",
     "output_type": "stream",
     "text": [
      "Base Team\n",
      "FF_E0S1 GAL_E6S0 DPAV: 7617.291\n",
      "\n",
      "1 Limited Cost\n",
      "FF_E0S1 LING_E0S0 DPAV: 8375.190\n",
      "FF_E0S1 GAL_E6S1 DPAV: 8662.981\n",
      "FF_E1S1 GAL_E6S0 DPAV: 8864.288\n",
      "\n",
      "2 Limited Cost\n",
      "FF_E1S1 LING_E0S0 DPAV: 9163.799\n",
      "FF_E0S1 LING_E0S1 DPAV: 9508.518\n",
      "FF_E2S1 GAL_E6S0 DPAV: 9599.903\n",
      "FF_E1S1 GAL_E6S1 DPAV: 10164.675\n",
      "FF_E0S1 LING_E1S0 DPAV: 10172.203\n"
     ]
    }
   ],
   "source": [
    "postOp = Lightcones.PostOp(Role.SUS, 5)\n",
    "multi = Lightcones.Multi(Role.SUS, 5)\n",
    "scentGal = Lightcones.ScentGallagher(Role.SUS, 1)\n",
    "scentLing = Lightcones.ScentLingsha(Role.SUS, 1)\n",
    "weak = [Element.FIRE]\n",
    "\n",
    "print(\"Base Team\")\n",
    "firefly = Characters.Firefly(0, Role.DPS, 0)\n",
    "rm = Characters.RuanMei(1, Role.SUP1, 0, breakTeam=True)\n",
    "hmc = Characters.HatBlazer(2, Role.SUP2, 0, rotation=[\"E\", \"E\", \"A\"])\n",
    "gal = Characters.Gallagher(3, Role.SUS, 0, lc=multi, breakTeam=True)\n",
    "print(\"FF_E0S1 GAL_E6S0\", startSimulator(cycleLimit, firefly, rm, hmc, gal, weak=weak))\n",
    "\n",
    "print(\"\\n1 Limited Cost\")\n",
    "firefly = Characters.Firefly(0, Role.DPS, 0)\n",
    "rm = Characters.RuanMei(1, Role.SUP1, 0, breakTeam=True)\n",
    "hmc = Characters.HatBlazer(2, Role.SUP2, 0, rotation=[\"E\", \"A\", \"A\"])\n",
    "ling = Characters.Lingsha(3, Role.SUS, 0, lc=postOp, breakTeam=True)\n",
    "print(\"FF_E0S1 LING_E0S0\", startSimulator(cycleLimit, firefly, rm, hmc, ling, weak=weak))\n",
    "\n",
    "firefly = Characters.Firefly(0, Role.DPS, 0)\n",
    "rm = Characters.RuanMei(1, Role.SUP1, 0, breakTeam=True)\n",
    "hmc = Characters.HatBlazer(2, Role.SUP2, 0, rotation=[\"E\", \"E\", \"A\"])\n",
    "gal = Characters.Gallagher(3, Role.SUS, 0, lc=scentGal, breakTeam=True)\n",
    "print(\"FF_E0S1 GAL_E6S1\", startSimulator(cycleLimit, firefly, rm, hmc, gal, weak=weak))\n",
    "\n",
    "firefly = Characters.Firefly(0, Role.DPS, 0, eidolon=1)\n",
    "rm = Characters.RuanMei(1, Role.SUP1, 0, breakTeam=True)\n",
    "hmc = Characters.HatBlazer(2, Role.SUP2, 0, rotation=[\"E\"])\n",
    "gal = Characters.Gallagher(3, Role.SUS, 0, lc=multi, breakTeam=True)\n",
    "print(\"FF_E1S1 GAL_E6S0\", startSimulator(cycleLimit, firefly, rm, hmc, gal, weak=weak))\n",
    "\n",
    "print(\"\\n2 Limited Cost\")\n",
    "firefly = Characters.Firefly(0, Role.DPS, 0, eidolon=1)\n",
    "rm = Characters.RuanMei(1, Role.SUP1, 0, breakTeam=True)\n",
    "hmc = Characters.HatBlazer(2, Role.SUP2, 0, rotation=[\"E\", \"A\"])\n",
    "ling = Characters.Lingsha(3, Role.SUS, 0, lc=postOp, breakTeam=True)\n",
    "print(\"FF_E1S1 LING_E0S0\", startSimulator(cycleLimit, firefly, rm, hmc, ling, weak=weak))\n",
    "\n",
    "firefly = Characters.Firefly(0, Role.DPS, 0, eidolon=0)\n",
    "rm = Characters.RuanMei(1, Role.SUP1, 0, breakTeam=True)\n",
    "hmc = Characters.HatBlazer(2, Role.SUP2, 0, rotation=[\"E\", \"A\", \"A\"])\n",
    "ling = Characters.Lingsha(3, Role.SUS, 0, lc=scentLing, breakTeam=True)\n",
    "print(\"FF_E0S1 LING_E0S1\", startSimulator(cycleLimit, firefly, rm, hmc, ling, weak=weak))\n",
    "\n",
    "firefly = Characters.Firefly(0, Role.DPS, 0, eidolon=2)\n",
    "rm = Characters.RuanMei(1, Role.SUP1, 0, breakTeam=True)\n",
    "hmc = Characters.HatBlazer(2, Role.SUP2, 0, rotation=[\"E\"])\n",
    "gal = Characters.Gallagher(3, Role.SUS, 0, lc=multi, breakTeam=True)\n",
    "print(\"FF_E2S1 GAL_E6S0\", startSimulator(cycleLimit, firefly, rm, hmc, gal, weak=weak))\n",
    "\n",
    "firefly = Characters.Firefly(0, Role.DPS, 0, eidolon=1)\n",
    "rm = Characters.RuanMei(1, Role.SUP1, 0, breakTeam=True)\n",
    "hmc = Characters.HatBlazer(2, Role.SUP2, 0, rotation=[\"E\"])\n",
    "gal = Characters.Gallagher(3, Role.SUS, 0, lc=scentGal, breakTeam=True)\n",
    "print(\"FF_E1S1 GAL_E6S1\", startSimulator(cycleLimit, firefly, rm, hmc, gal, weak=weak))\n",
    "\n",
    "firefly = Characters.Firefly(0, Role.DPS, 0, eidolon=0)\n",
    "rm = Characters.RuanMei(1, Role.SUP1, 0, breakTeam=True)\n",
    "hmc = Characters.HatBlazer(2, Role.SUP2, 0, rotation=[\"E\", \"A\", \"A\"])\n",
    "ling = Characters.Lingsha(3, Role.SUS, 0, lc=postOp, breakTeam=True, eidolon=1)\n",
    "print(\"FF_E0S1 LING_E1S0\", startSimulator(cycleLimit, firefly, rm, hmc, ling, weak=weak))\n",
    "    "
   ]
  },
  {
   "cell_type": "markdown",
   "metadata": {},
   "source": [
    "### Yunli"
   ]
  },
  {
   "cell_type": "code",
   "execution_count": null,
   "metadata": {},
   "outputs": [
    {
     "name": "stdout",
     "output_type": "stream",
     "text": [
      "Base Team\n",
      "Base Team DPAV: 6496.303\n",
      "\n",
      "1 Limited Cost\n",
      "E0S1 Yunli | E0S0 Lingsha DPAV: 6700.373\n",
      "E0S1 Yunli | E6S1 Gal DPAV: 7379.444\n",
      "E1S1 Yunli | E6S0 Gal DPAV: 7713.689\n",
      "\n",
      "2 Limited Cost\n",
      "E0S1 Yunli | E0S1 Lingsha DPAV: 7438.444\n",
      "E1S1 Yunli | E0S0 Lingsha DPAV: 7874.897\n",
      "E2S1 Yunli | E6S0 Gal DPAV: 8396.664\n",
      "E1S1 Yunli | E6S1 Gal DPAV: 8818.694\n"
     ]
    }
   ],
   "source": [
    "postOp = Lightcones.PostOp(Role.SUS, 5)\n",
    "multi = Lightcones.Multi(Role.SUS, 5)\n",
    "scentGal = Lightcones.ScentGallagher(Role.SUS, 1)\n",
    "scentLing = Lightcones.ScentLingsha(Role.SUS, 1)\n",
    "keel = Planars.Keel(Role.SUS)\n",
    "penacony = Planars.Penacony(Role.SUP1, [Role.DPS])\n",
    "weak = [Element.PHYSICAL]\n",
    "\n",
    "print(\"Base Team\")\n",
    "gal = Characters.Gallagher(0, Role.SUS, 0, lc=multi, pl=keel)\n",
    "yunli = Characters.Yunli(1, Role.DPS, 0)\n",
    "robin = Characters.Robin(2, Role.SUP1, 0, rotation=[\"E\"], pl=penacony)\n",
    "ting = Characters.Tingyun(3, Role.SUP2, 0)\n",
    "print(\"Base Team\", startSimulator(cycleLimit, gal, yunli, robin, ting, weak=weak))\n",
    "\n",
    "print(\"\\n1 Limited Cost\")\n",
    "ling = Characters.Lingsha(0, Role.SUS, 0, lc=postOp, pl=keel)\n",
    "yunli = Characters.Yunli(1, Role.DPS, 0)\n",
    "robin = Characters.Robin(2, Role.SUP1, 0, rotation=[\"E\", \"A\"], pl=penacony)\n",
    "ting = Characters.Tingyun(3, Role.SUP2, 0)\n",
    "print(\"E0S1 Yunli | E0S0 Lingsha\", startSimulator(cycleLimit, ling, yunli, robin, ting, weak=weak))\n",
    "\n",
    "gal = Characters.Gallagher(0, Role.SUS, 0, lc=scentGal, pl=keel)\n",
    "yunli = Characters.Yunli(1, Role.DPS, 0)\n",
    "robin = Characters.Robin(2, Role.SUP1, 0, rotation=[\"E\"], pl=penacony)\n",
    "ting = Characters.Tingyun(3, Role.SUP2, 0)\n",
    "print(\"E0S1 Yunli | E6S1 Gal\", startSimulator(cycleLimit, gal, yunli, robin, ting, weak=weak))\n",
    "\n",
    "gal = Characters.Gallagher(0, Role.SUS, 0, lc=multi, pl=keel)\n",
    "yunli = Characters.Yunli(1, Role.DPS, 0, eidolon=1)\n",
    "robin = Characters.Robin(2, Role.SUP1, 0, rotation=[\"E\"], pl=penacony)\n",
    "ting = Characters.Tingyun(3, Role.SUP2, 0)\n",
    "print(\"E1S1 Yunli | E6S0 Gal\", startSimulator(cycleLimit, gal, yunli, robin, ting, weak=weak))\n",
    "\n",
    "print(\"\\n2 Limited Cost\")\n",
    "ling = Characters.Lingsha(0, Role.SUS, 0, lc=scentLing, pl=keel)\n",
    "yunli = Characters.Yunli(1, Role.DPS, 0, eidolon=0)\n",
    "robin = Characters.Robin(2, Role.SUP1, 0, rotation=[\"E\", \"A\"], pl=penacony)\n",
    "ting = Characters.Tingyun(3, Role.SUP2, 0)\n",
    "print(\"E0S1 Yunli | E0S1 Lingsha\", startSimulator(cycleLimit, ling, yunli, robin, ting, weak=weak))\n",
    "\n",
    "ling = Characters.Lingsha(0, Role.SUS, 0, lc=postOp, pl=keel)\n",
    "yunli = Characters.Yunli(1, Role.DPS, 0, eidolon=1)\n",
    "robin = Characters.Robin(2, Role.SUP1, 0, rotation=[\"E\", \"A\"], pl=penacony)\n",
    "ting = Characters.Tingyun(3, Role.SUP2, 0)\n",
    "print(\"E1S1 Yunli | E0S0 Lingsha\", startSimulator(cycleLimit, ling, yunli, robin, ting, weak=weak))\n",
    "\n",
    "gal = Characters.Gallagher(0, Role.SUS, 0, lc=multi, pl=keel)\n",
    "yunli = Characters.Yunli(1, Role.DPS, 0, eidolon=2)\n",
    "robin = Characters.Robin(2, Role.SUP1, 0, rotation=[\"E\"], pl=penacony)\n",
    "ting = Characters.Tingyun(3, Role.SUP2, 0)\n",
    "print(\"E2S1 Yunli | E6S0 Gal\", startSimulator(cycleLimit, gal, yunli, robin, ting, weak=weak))\n",
    "\n",
    "gal = Characters.Gallagher(0, Role.SUS, 0, lc=scentGal, pl=keel)\n",
    "yunli = Characters.Yunli(1, Role.DPS, 0, eidolon=1)\n",
    "robin = Characters.Robin(2, Role.SUP1, 0, rotation=[\"E\"], pl=penacony)\n",
    "ting = Characters.Tingyun(3, Role.SUP2, 0)\n",
    "print(\"E1S1 Yunli | E6S1 Gal\", startSimulator(cycleLimit, gal, yunli, robin, ting, weak=weak))"
   ]
  },
  {
   "cell_type": "markdown",
   "metadata": {},
   "source": [
    "### Feixiao"
   ]
  },
  {
   "cell_type": "code",
   "execution_count": null,
   "metadata": {},
   "outputs": [
    {
     "name": "stdout",
     "output_type": "stream",
     "text": [
      "Base Team\n",
      "Base Team DPAV: 7028.911\n",
      "\n",
      "1 Limited Cost\n",
      "E0S1 Fei | E6S1 Gal DPAV: 7772.785\n",
      "E0S1 Fei | E0S0 Ling DPAV: 7973.430\n",
      "E1S1 Fei | E6S0 Gal DPAV: 8080.211\n",
      "\n",
      "2 Limited Cost\n",
      "E0S1 Fei | E0S1 Ling DPAV: 8486.390\n",
      "E1S1 Fei | E6S1 Gal DPAV: 8906.659\n",
      "E1S1 Fei | E0S0 Ling DPAV: 9134.558\n",
      "E2S1 Fei | E6S0 Gal DPAV: 11118.325\n"
     ]
    }
   ],
   "source": [
    "postOp = Lightcones.PostOp(Role.SUS, 5)\n",
    "multi = Lightcones.Multi(Role.SUS, 5)\n",
    "scentGal = Lightcones.ScentGallagher(Role.SUS, 1)\n",
    "scentLing = Lightcones.ScentLingsha(Role.SUS, 1)\n",
    "keel = Planars.Keel(Role.SUS)\n",
    "weak = [Element.WIND]\n",
    "\n",
    "print(\"Base Team\")\n",
    "fei = Characters.Feixiao(0, Role.DPS, eidolon=0)\n",
    "gal = Characters.Gallagher(1, Role.SUS, 0, lc=multi, pl=keel)\n",
    "robin = Characters.Robin(2, Role.SUP1, 0, rotation=[\"E\"])\n",
    "topaz = Characters.Topaz(3, Role.SUBDPS, 0)\n",
    "print(\"Base Team\", startSimulator(5, fei, gal, robin, topaz, weak=weak))\n",
    "\n",
    "print(\"\\n1 Limited Cost\")\n",
    "fei = Characters.Feixiao(0, Role.DPS, eidolon=0)\n",
    "gal = Characters.Gallagher(1, Role.SUS, 0, lc=scentGal, pl=keel)\n",
    "robin = Characters.Robin(2, Role.SUP1, 0, rotation=[\"E\"])\n",
    "topaz = Characters.Topaz(3, Role.SUBDPS, 0)\n",
    "print(\"E0S1 Fei | E6S1 Gal\", startSimulator(5, fei, gal, robin, topaz, weak=weak))\n",
    "\n",
    "fei = Characters.Feixiao(0, Role.DPS, eidolon=0)\n",
    "ling = Characters.Lingsha(0, Role.SUS, 0, lc=postOp, pl=keel)\n",
    "robin = Characters.Robin(2, Role.SUP1, 0, rotation=[\"E\", \"A\", \"A\"])\n",
    "topaz = Characters.Topaz(3, Role.SUBDPS, 0)\n",
    "print(\"E0S1 Fei | E0S0 Ling\", startSimulator(5, fei, ling, robin, topaz, weak=weak))\n",
    "\n",
    "fei = Characters.Feixiao(0, Role.DPS, eidolon=1)\n",
    "gal = Characters.Gallagher(1, Role.SUS, 0, lc=multi, pl=keel)\n",
    "robin = Characters.Robin(2, Role.SUP1, 0, rotation=[\"E\"])\n",
    "topaz = Characters.Topaz(3, Role.SUBDPS, 0)\n",
    "print(\"E1S1 Fei | E6S0 Gal\", startSimulator(5, fei, gal, robin, topaz, weak=weak))\n",
    "\n",
    "print(\"\\n2 Limited Cost\")\n",
    "fei = Characters.Feixiao(0, Role.DPS, eidolon=0)\n",
    "ling = Characters.Lingsha(1, Role.SUS, 0, lc=scentLing, pl=keel)\n",
    "robin = Characters.Robin(2, Role.SUP1, 0, rotation=[\"E\", \"A\", \"A\"])\n",
    "topaz = Characters.Topaz(3, Role.SUBDPS, 0)\n",
    "print(\"E0S1 Fei | E0S1 Ling\", startSimulator(5, fei, ling, robin, topaz, weak=weak))\n",
    "\n",
    "fei = Characters.Feixiao(0, Role.DPS, eidolon=1)\n",
    "gal = Characters.Gallagher(1, Role.SUS, 0, lc=scentGal, pl=keel)\n",
    "robin = Characters.Robin(2, Role.SUP1, 0, rotation=[\"E\"])\n",
    "topaz = Characters.Topaz(3, Role.SUBDPS, 0)\n",
    "print(\"E1S1 Fei | E6S1 Gal\", startSimulator(5, fei, gal, robin, topaz, weak=weak))\n",
    "\n",
    "fei = Characters.Feixiao(0, Role.DPS, eidolon=1)\n",
    "ling = Characters.Lingsha(1, Role.SUS, 0, lc=postOp, pl=keel)\n",
    "robin = Characters.Robin(2, Role.SUP1, 0, rotation=[\"E\", \"A\", \"A\"])\n",
    "topaz = Characters.Topaz(3, Role.SUBDPS, 0)\n",
    "print(\"E1S1 Fei | E0S0 Ling\", startSimulator(5, fei, ling, robin, topaz, weak=weak))\n",
    "\n",
    "fei = Characters.Feixiao(0, Role.DPS, eidolon=2)\n",
    "gal = Characters.Gallagher(1, Role.SUS, 0, lc=multi, pl=keel)\n",
    "robin = Characters.Robin(2, Role.SUP1, 0, rotation=[\"E\"])\n",
    "topaz = Characters.Topaz(3, Role.SUBDPS, 0)\n",
    "print(\"E2S1 Fei | E6S0 Gal\", startSimulator(5, fei, gal, robin, topaz, weak=weak))"
   ]
  }
 ],
 "metadata": {
  "kernelspec": {
   "display_name": "Python 3",
   "language": "python",
   "name": "python3"
  },
  "language_info": {
   "codemirror_mode": {
    "name": "ipython",
    "version": 3
   },
   "file_extension": ".py",
   "mimetype": "text/x-python",
   "name": "python",
   "nbconvert_exporter": "python",
   "pygments_lexer": "ipython3",
   "version": "3.12.5"
  }
 },
 "nbformat": 4,
 "nbformat_minor": 2
}

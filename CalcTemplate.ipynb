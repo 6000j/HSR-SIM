{
 "cells": [
  {
   "cell_type": "markdown",
   "metadata": {},
   "source": [
    "### Item Imports (Run this first!)"
   ]
  },
  {
   "cell_type": "code",
   "execution_count": 14,
   "metadata": {},
   "outputs": [],
   "source": [
    "from Misc import *\n",
    "from CombatSim import startSimulator\n",
    "import os\n",
    "\n",
    "folders = [\"Characters\", \"Lightcones\", \"Relics\", \"Planars\"]\n",
    "\n",
    "for folder in folders:\n",
    "    modules = [f[:-3] for f in os.listdir(folder) if f.endswith('.py') and f != '__init__.py']\n",
    "\n",
    "    init_file = os.path.join(folder, '__init__.py')\n",
    "    with open(init_file, 'w') as f:\n",
    "        for module_name in modules:\n",
    "            f.write(f\"from .{module_name} import *\\n\")\n"
   ]
  },
  {
   "cell_type": "markdown",
   "metadata": {},
   "source": [
    "### Eidolons"
   ]
  },
  {
   "cell_type": "code",
   "execution_count": 15,
   "metadata": {},
   "outputs": [
    {
     "name": "stdout",
     "output_type": "stream",
     "text": [
      "Sustained DPAV: 9721.716\n",
      "Sustained DPAV: 11093.539\n",
      "Sustained DPAV: 14548.625\n",
      "Sustained DPAV: 15312.300\n",
      "Sustained DPAV: 15113.627\n",
      "Sustained DPAV: 15272.942\n",
      "Sustained DPAV: 20973.243\n"
     ]
    }
   ],
   "source": [
    "import Lightcones\n",
    "import Characters\n",
    "import Relics\n",
    "import Planars\n",
    "\n",
    "for i in range(7):\n",
    "    fei = Characters.Feixiao(0, Role.DPS, 0, eidolon=i, lc=Lightcones.VentureForthFeixiao(Role.DPS), r1=Relics.WindSoaringYunli(Role.DPS, 4), r2=None, pl=Planars.Duran(Role.DPS))\n",
    "    robin = Characters.Robin(1, Role.SUP1, 0, lc=Lightcones.Journey(Role.SUP1), r1=Relics.Prisoner(Role.SUP1, 2), r2=Relics.Musketeer(Role.SUP1, 2), pl=Planars.Lushaka(Role.SUP1, Role.DPS))\n",
    "    aven = Characters.Aventurine(2, Role.SUS, 0, lc=Lightcones.ConcertForTwo(Role.SUS), r1=Relics.Messenger(Role.SUS, 2, False), r2=Relics.Knight(Role.SUS, 2), pl=Planars.Keel(Role.SUS))\n",
    "    topaz = Characters.Topaz(3, Role.SUBDPS, 0, lc=Lightcones.Swordplay(Role.SUBDPS), r1=Relics.DukeTopaz(Role.SUBDPS, 4), r2=None, pl=Planars.Duran(Role.SUBDPS))\n",
    "    print(startSimulator(s1=fei, s2=robin, s3=aven, s4=topaz))\n",
    "\n"
   ]
  }
 ],
 "metadata": {
  "kernelspec": {
   "display_name": "Python 3",
   "language": "python",
   "name": "python3"
  },
  "language_info": {
   "codemirror_mode": {
    "name": "ipython",
    "version": 3
   },
   "file_extension": ".py",
   "mimetype": "text/x-python",
   "name": "python",
   "nbconvert_exporter": "python",
   "pygments_lexer": "ipython3",
   "version": "3.12.5"
  }
 },
 "nbformat": 4,
 "nbformat_minor": 2
}

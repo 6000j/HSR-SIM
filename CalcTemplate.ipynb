{
 "cells": [
  {
   "cell_type": "markdown",
   "metadata": {},
   "source": [
    "### Item Imports (Run this first!)"
   ]
  },
  {
   "cell_type": "code",
   "execution_count": 27,
   "metadata": {},
   "outputs": [],
   "source": [
    "from Misc import *\n",
    "from RelicStats import *\n",
    "from CombatSim import startSimulator\n",
    "import os\n",
    "\n",
    "folders = [\"Characters\", \"Lightcones\", \"Relics\", \"Planars\"]\n",
    "\n",
    "for folder in folders:\n",
    "    modules = [f[:-3] for f in os.listdir(folder) if f.endswith('.py') and f != '__init__.py']\n",
    "\n",
    "    init_file = os.path.join(folder, '__init__.py')\n",
    "    with open(init_file, 'w') as f:\n",
    "        for module_name in modules:\n",
    "            f.write(f\"from .{module_name} import *\\n\")\n"
   ]
  },
  {
   "cell_type": "markdown",
   "metadata": {},
   "source": [
    "### Eidolons"
   ]
  },
  {
   "cell_type": "code",
   "execution_count": 28,
   "metadata": {},
   "outputs": [
    {
     "name": "stdout",
     "output_type": "stream",
     "text": [
      "Fei Sleep, Topaz Cruising DPAV: 9721.716\n"
     ]
    }
   ],
   "source": [
    "import Lightcones\n",
    "import Characters\n",
    "import Relics\n",
    "import Planars\n",
    "\n",
    "\n",
    "feiSubs = RelicStats(0, 3, 0, 3, 3, 0, 4, 4, 4, 4, 6, 18, Pwr.CR_PERCENT, Pwr.SPD, Pwr.DMG_PERCENT, Pwr.ATK_PERCENT)\n",
    "fei = Characters.Feixiao(0, Role.DPS, 0, eidolon=0, lc=Lightcones.VentureForthFeixiao(Role.DPS), r1=Relics.WindSoaringYunli(Role.DPS, 4), r2=None, pl=Planars.Duran(Role.DPS), subs=feiSubs)\n",
    "robin = Characters.Robin(1, Role.SUP1, 0, lc=Lightcones.Journey(Role.SUP1), r1=Relics.Prisoner(Role.SUP1, 2), r2=Relics.Musketeer(Role.SUP1, 2), pl=Planars.Lushaka(Role.SUP1, Role.DPS))\n",
    "aven = Characters.Aventurine(2, Role.SUS, 0, lc=Lightcones.ConcertForTwo(Role.SUS), r1=Relics.Messenger(Role.SUS, 2, False), r2=Relics.Knight(Role.SUS, 2), pl=Planars.Keel(Role.SUS))\n",
    "topaz = Characters.Topaz(3, Role.SUBDPS, 0, lc=Lightcones.Swordplay(Role.SUBDPS), r1=Relics.DukeTopaz(Role.SUBDPS, 4), r2=None, pl=Planars.Duran(Role.SUBDPS))\n",
    "print(f\"Fei Sleep, Topaz Cruising {startSimulator(cycleLimit=50, s1=fei, s2=robin, s3=aven, s4=topaz)}\")\n",
    "\n"
   ]
  }
 ],
 "metadata": {
  "kernelspec": {
   "display_name": "Python 3",
   "language": "python",
   "name": "python3"
  },
  "language_info": {
   "codemirror_mode": {
    "name": "ipython",
    "version": 3
   },
   "file_extension": ".py",
   "mimetype": "text/x-python",
   "name": "python",
   "nbconvert_exporter": "python",
   "pygments_lexer": "ipython3",
   "version": "3.12.5"
  }
 },
 "nbformat": 4,
 "nbformat_minor": 2
}
